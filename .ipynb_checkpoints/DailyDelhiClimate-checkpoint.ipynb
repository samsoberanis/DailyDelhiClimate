{
 "cells": [
  {
   "cell_type": "code",
   "execution_count": 51,
   "id": "63538601",
   "metadata": {},
   "outputs": [],
   "source": [
    "import pandas as pd\n",
    "import calendar\n",
    "import seaborn as sns\n",
    "import matplotlib.pyplot as plt"
   ]
  },
  {
   "cell_type": "code",
   "execution_count": 2,
   "id": "bb32bc70",
   "metadata": {},
   "outputs": [],
   "source": [
    "delhiclimate_df = pd.read_csv('C:/Users/samso/OneDrive/Documents/Projects/DailyDelhiClimate/DailyDelhiClimate/DailyDelhiClimate.csv')"
   ]
  },
  {
   "cell_type": "markdown",
   "id": "c8350b04",
   "metadata": {},
   "source": [
    "We evaluate our dataFrame"
   ]
  },
  {
   "cell_type": "code",
   "execution_count": 3,
   "id": "c9921931",
   "metadata": {},
   "outputs": [
    {
     "data": {
      "text/html": [
       "<div>\n",
       "<style scoped>\n",
       "    .dataframe tbody tr th:only-of-type {\n",
       "        vertical-align: middle;\n",
       "    }\n",
       "\n",
       "    .dataframe tbody tr th {\n",
       "        vertical-align: top;\n",
       "    }\n",
       "\n",
       "    .dataframe thead th {\n",
       "        text-align: right;\n",
       "    }\n",
       "</style>\n",
       "<table border=\"1\" class=\"dataframe\">\n",
       "  <thead>\n",
       "    <tr style=\"text-align: right;\">\n",
       "      <th></th>\n",
       "      <th>date</th>\n",
       "      <th>meantemp</th>\n",
       "      <th>humidity</th>\n",
       "      <th>wind_speed</th>\n",
       "      <th>meanpressure</th>\n",
       "    </tr>\n",
       "  </thead>\n",
       "  <tbody>\n",
       "    <tr>\n",
       "      <th>0</th>\n",
       "      <td>1/1/2017</td>\n",
       "      <td>15.913043</td>\n",
       "      <td>85.869565</td>\n",
       "      <td>2.743478</td>\n",
       "      <td>59.000000</td>\n",
       "    </tr>\n",
       "    <tr>\n",
       "      <th>1</th>\n",
       "      <td>1/2/2017</td>\n",
       "      <td>18.500000</td>\n",
       "      <td>77.222222</td>\n",
       "      <td>2.894444</td>\n",
       "      <td>1018.277778</td>\n",
       "    </tr>\n",
       "    <tr>\n",
       "      <th>2</th>\n",
       "      <td>1/3/2017</td>\n",
       "      <td>17.111111</td>\n",
       "      <td>81.888889</td>\n",
       "      <td>4.016667</td>\n",
       "      <td>1018.333333</td>\n",
       "    </tr>\n",
       "    <tr>\n",
       "      <th>3</th>\n",
       "      <td>1/4/2017</td>\n",
       "      <td>18.700000</td>\n",
       "      <td>70.050000</td>\n",
       "      <td>4.545000</td>\n",
       "      <td>1015.700000</td>\n",
       "    </tr>\n",
       "    <tr>\n",
       "      <th>4</th>\n",
       "      <td>1/5/2017</td>\n",
       "      <td>18.388889</td>\n",
       "      <td>74.944444</td>\n",
       "      <td>3.300000</td>\n",
       "      <td>1014.333333</td>\n",
       "    </tr>\n",
       "  </tbody>\n",
       "</table>\n",
       "</div>"
      ],
      "text/plain": [
       "       date   meantemp   humidity  wind_speed  meanpressure\n",
       "0  1/1/2017  15.913043  85.869565    2.743478     59.000000\n",
       "1  1/2/2017  18.500000  77.222222    2.894444   1018.277778\n",
       "2  1/3/2017  17.111111  81.888889    4.016667   1018.333333\n",
       "3  1/4/2017  18.700000  70.050000    4.545000   1015.700000\n",
       "4  1/5/2017  18.388889  74.944444    3.300000   1014.333333"
      ]
     },
     "execution_count": 3,
     "metadata": {},
     "output_type": "execute_result"
    }
   ],
   "source": [
    "delhiclimate_df.head()"
   ]
  },
  {
   "cell_type": "markdown",
   "id": "619ac39a",
   "metadata": {},
   "source": [
    "We change our date column to be our index"
   ]
  },
  {
   "cell_type": "code",
   "execution_count": 4,
   "id": "7d5ab545",
   "metadata": {},
   "outputs": [],
   "source": [
    "delhiclimate_df.set_index(['date'], inplace = True)"
   ]
  },
  {
   "cell_type": "code",
   "execution_count": 5,
   "id": "ef661751",
   "metadata": {},
   "outputs": [
    {
     "data": {
      "text/html": [
       "<div>\n",
       "<style scoped>\n",
       "    .dataframe tbody tr th:only-of-type {\n",
       "        vertical-align: middle;\n",
       "    }\n",
       "\n",
       "    .dataframe tbody tr th {\n",
       "        vertical-align: top;\n",
       "    }\n",
       "\n",
       "    .dataframe thead th {\n",
       "        text-align: right;\n",
       "    }\n",
       "</style>\n",
       "<table border=\"1\" class=\"dataframe\">\n",
       "  <thead>\n",
       "    <tr style=\"text-align: right;\">\n",
       "      <th></th>\n",
       "      <th>meantemp</th>\n",
       "      <th>humidity</th>\n",
       "      <th>wind_speed</th>\n",
       "      <th>meanpressure</th>\n",
       "    </tr>\n",
       "    <tr>\n",
       "      <th>date</th>\n",
       "      <th></th>\n",
       "      <th></th>\n",
       "      <th></th>\n",
       "      <th></th>\n",
       "    </tr>\n",
       "  </thead>\n",
       "  <tbody>\n",
       "    <tr>\n",
       "      <th>1/1/2017</th>\n",
       "      <td>15.913043</td>\n",
       "      <td>85.869565</td>\n",
       "      <td>2.743478</td>\n",
       "      <td>59.000000</td>\n",
       "    </tr>\n",
       "    <tr>\n",
       "      <th>1/2/2017</th>\n",
       "      <td>18.500000</td>\n",
       "      <td>77.222222</td>\n",
       "      <td>2.894444</td>\n",
       "      <td>1018.277778</td>\n",
       "    </tr>\n",
       "    <tr>\n",
       "      <th>1/3/2017</th>\n",
       "      <td>17.111111</td>\n",
       "      <td>81.888889</td>\n",
       "      <td>4.016667</td>\n",
       "      <td>1018.333333</td>\n",
       "    </tr>\n",
       "    <tr>\n",
       "      <th>1/4/2017</th>\n",
       "      <td>18.700000</td>\n",
       "      <td>70.050000</td>\n",
       "      <td>4.545000</td>\n",
       "      <td>1015.700000</td>\n",
       "    </tr>\n",
       "    <tr>\n",
       "      <th>1/5/2017</th>\n",
       "      <td>18.388889</td>\n",
       "      <td>74.944444</td>\n",
       "      <td>3.300000</td>\n",
       "      <td>1014.333333</td>\n",
       "    </tr>\n",
       "  </tbody>\n",
       "</table>\n",
       "</div>"
      ],
      "text/plain": [
       "           meantemp   humidity  wind_speed  meanpressure\n",
       "date                                                    \n",
       "1/1/2017  15.913043  85.869565    2.743478     59.000000\n",
       "1/2/2017  18.500000  77.222222    2.894444   1018.277778\n",
       "1/3/2017  17.111111  81.888889    4.016667   1018.333333\n",
       "1/4/2017  18.700000  70.050000    4.545000   1015.700000\n",
       "1/5/2017  18.388889  74.944444    3.300000   1014.333333"
      ]
     },
     "execution_count": 5,
     "metadata": {},
     "output_type": "execute_result"
    }
   ],
   "source": [
    "delhiclimate_df.head()"
   ]
  },
  {
   "cell_type": "code",
   "execution_count": 6,
   "id": "8e53481c",
   "metadata": {},
   "outputs": [
    {
     "data": {
      "text/plain": [
       "meantemp        float64\n",
       "humidity        float64\n",
       "wind_speed      float64\n",
       "meanpressure    float64\n",
       "dtype: object"
      ]
     },
     "execution_count": 6,
     "metadata": {},
     "output_type": "execute_result"
    }
   ],
   "source": [
    "delhiclimate_df.dtypes"
   ]
  },
  {
   "cell_type": "code",
   "execution_count": 7,
   "id": "fba5bf1d",
   "metadata": {},
   "outputs": [],
   "source": [
    "delhiclimate_df['meantemp'] = delhiclimate_df['meantemp'].round(decimals = 2)"
   ]
  },
  {
   "cell_type": "code",
   "execution_count": 8,
   "id": "1fa119c1",
   "metadata": {},
   "outputs": [],
   "source": [
    "delhiclimate_df['humidity'] = delhiclimate_df['humidity'].round(decimals = 2)"
   ]
  },
  {
   "cell_type": "code",
   "execution_count": 9,
   "id": "5c884ae0",
   "metadata": {},
   "outputs": [],
   "source": [
    "delhiclimate_df['wind_speed'] = delhiclimate_df['wind_speed'].round(decimals = 2)"
   ]
  },
  {
   "cell_type": "code",
   "execution_count": 10,
   "id": "33775986",
   "metadata": {},
   "outputs": [],
   "source": [
    "delhiclimate_df['meanpressure'] = delhiclimate_df['meanpressure'].round(decimals = 2)"
   ]
  },
  {
   "cell_type": "code",
   "execution_count": 11,
   "id": "1d14eea1",
   "metadata": {},
   "outputs": [
    {
     "data": {
      "text/html": [
       "<div>\n",
       "<style scoped>\n",
       "    .dataframe tbody tr th:only-of-type {\n",
       "        vertical-align: middle;\n",
       "    }\n",
       "\n",
       "    .dataframe tbody tr th {\n",
       "        vertical-align: top;\n",
       "    }\n",
       "\n",
       "    .dataframe thead th {\n",
       "        text-align: right;\n",
       "    }\n",
       "</style>\n",
       "<table border=\"1\" class=\"dataframe\">\n",
       "  <thead>\n",
       "    <tr style=\"text-align: right;\">\n",
       "      <th></th>\n",
       "      <th>meantemp</th>\n",
       "      <th>humidity</th>\n",
       "      <th>wind_speed</th>\n",
       "      <th>meanpressure</th>\n",
       "    </tr>\n",
       "    <tr>\n",
       "      <th>date</th>\n",
       "      <th></th>\n",
       "      <th></th>\n",
       "      <th></th>\n",
       "      <th></th>\n",
       "    </tr>\n",
       "  </thead>\n",
       "  <tbody>\n",
       "    <tr>\n",
       "      <th>1/1/2017</th>\n",
       "      <td>15.91</td>\n",
       "      <td>85.87</td>\n",
       "      <td>2.74</td>\n",
       "      <td>59.00</td>\n",
       "    </tr>\n",
       "    <tr>\n",
       "      <th>1/2/2017</th>\n",
       "      <td>18.50</td>\n",
       "      <td>77.22</td>\n",
       "      <td>2.89</td>\n",
       "      <td>1018.28</td>\n",
       "    </tr>\n",
       "    <tr>\n",
       "      <th>1/3/2017</th>\n",
       "      <td>17.11</td>\n",
       "      <td>81.89</td>\n",
       "      <td>4.02</td>\n",
       "      <td>1018.33</td>\n",
       "    </tr>\n",
       "    <tr>\n",
       "      <th>1/4/2017</th>\n",
       "      <td>18.70</td>\n",
       "      <td>70.05</td>\n",
       "      <td>4.54</td>\n",
       "      <td>1015.70</td>\n",
       "    </tr>\n",
       "    <tr>\n",
       "      <th>1/5/2017</th>\n",
       "      <td>18.39</td>\n",
       "      <td>74.94</td>\n",
       "      <td>3.30</td>\n",
       "      <td>1014.33</td>\n",
       "    </tr>\n",
       "    <tr>\n",
       "      <th>...</th>\n",
       "      <td>...</td>\n",
       "      <td>...</td>\n",
       "      <td>...</td>\n",
       "      <td>...</td>\n",
       "    </tr>\n",
       "    <tr>\n",
       "      <th>12/28/2016</th>\n",
       "      <td>17.22</td>\n",
       "      <td>68.04</td>\n",
       "      <td>3.55</td>\n",
       "      <td>1015.57</td>\n",
       "    </tr>\n",
       "    <tr>\n",
       "      <th>12/29/2016</th>\n",
       "      <td>15.24</td>\n",
       "      <td>87.86</td>\n",
       "      <td>6.00</td>\n",
       "      <td>1016.90</td>\n",
       "    </tr>\n",
       "    <tr>\n",
       "      <th>12/30/2016</th>\n",
       "      <td>14.10</td>\n",
       "      <td>89.67</td>\n",
       "      <td>6.27</td>\n",
       "      <td>1017.90</td>\n",
       "    </tr>\n",
       "    <tr>\n",
       "      <th>12/31/2016</th>\n",
       "      <td>15.05</td>\n",
       "      <td>87.00</td>\n",
       "      <td>7.32</td>\n",
       "      <td>1016.10</td>\n",
       "    </tr>\n",
       "    <tr>\n",
       "      <th>1/1/2017</th>\n",
       "      <td>10.00</td>\n",
       "      <td>100.00</td>\n",
       "      <td>0.00</td>\n",
       "      <td>1016.00</td>\n",
       "    </tr>\n",
       "  </tbody>\n",
       "</table>\n",
       "<p>1576 rows × 4 columns</p>\n",
       "</div>"
      ],
      "text/plain": [
       "            meantemp  humidity  wind_speed  meanpressure\n",
       "date                                                    \n",
       "1/1/2017       15.91     85.87        2.74         59.00\n",
       "1/2/2017       18.50     77.22        2.89       1018.28\n",
       "1/3/2017       17.11     81.89        4.02       1018.33\n",
       "1/4/2017       18.70     70.05        4.54       1015.70\n",
       "1/5/2017       18.39     74.94        3.30       1014.33\n",
       "...              ...       ...         ...           ...\n",
       "12/28/2016     17.22     68.04        3.55       1015.57\n",
       "12/29/2016     15.24     87.86        6.00       1016.90\n",
       "12/30/2016     14.10     89.67        6.27       1017.90\n",
       "12/31/2016     15.05     87.00        7.32       1016.10\n",
       "1/1/2017       10.00    100.00        0.00       1016.00\n",
       "\n",
       "[1576 rows x 4 columns]"
      ]
     },
     "execution_count": 11,
     "metadata": {},
     "output_type": "execute_result"
    }
   ],
   "source": [
    "delhiclimate_df"
   ]
  },
  {
   "cell_type": "code",
   "execution_count": 12,
   "id": "821cb5f1",
   "metadata": {},
   "outputs": [
    {
     "data": {
      "text/html": [
       "<div>\n",
       "<style scoped>\n",
       "    .dataframe tbody tr th:only-of-type {\n",
       "        vertical-align: middle;\n",
       "    }\n",
       "\n",
       "    .dataframe tbody tr th {\n",
       "        vertical-align: top;\n",
       "    }\n",
       "\n",
       "    .dataframe thead th {\n",
       "        text-align: right;\n",
       "    }\n",
       "</style>\n",
       "<table border=\"1\" class=\"dataframe\">\n",
       "  <thead>\n",
       "    <tr style=\"text-align: right;\">\n",
       "      <th></th>\n",
       "      <th>meantemp</th>\n",
       "      <th>humidity</th>\n",
       "      <th>wind_speed</th>\n",
       "      <th>meanpressure</th>\n",
       "    </tr>\n",
       "    <tr>\n",
       "      <th>date</th>\n",
       "      <th></th>\n",
       "      <th></th>\n",
       "      <th></th>\n",
       "      <th></th>\n",
       "    </tr>\n",
       "  </thead>\n",
       "  <tbody>\n",
       "    <tr>\n",
       "      <th>1/1/2017</th>\n",
       "      <td>15.91</td>\n",
       "      <td>85.87</td>\n",
       "      <td>2.74</td>\n",
       "      <td>59.00</td>\n",
       "    </tr>\n",
       "    <tr>\n",
       "      <th>1/2/2017</th>\n",
       "      <td>18.50</td>\n",
       "      <td>77.22</td>\n",
       "      <td>2.89</td>\n",
       "      <td>1018.28</td>\n",
       "    </tr>\n",
       "    <tr>\n",
       "      <th>1/3/2017</th>\n",
       "      <td>17.11</td>\n",
       "      <td>81.89</td>\n",
       "      <td>4.02</td>\n",
       "      <td>1018.33</td>\n",
       "    </tr>\n",
       "    <tr>\n",
       "      <th>1/4/2017</th>\n",
       "      <td>18.70</td>\n",
       "      <td>70.05</td>\n",
       "      <td>4.54</td>\n",
       "      <td>1015.70</td>\n",
       "    </tr>\n",
       "    <tr>\n",
       "      <th>1/5/2017</th>\n",
       "      <td>18.39</td>\n",
       "      <td>74.94</td>\n",
       "      <td>3.30</td>\n",
       "      <td>1014.33</td>\n",
       "    </tr>\n",
       "  </tbody>\n",
       "</table>\n",
       "</div>"
      ],
      "text/plain": [
       "          meantemp  humidity  wind_speed  meanpressure\n",
       "date                                                  \n",
       "1/1/2017     15.91     85.87        2.74         59.00\n",
       "1/2/2017     18.50     77.22        2.89       1018.28\n",
       "1/3/2017     17.11     81.89        4.02       1018.33\n",
       "1/4/2017     18.70     70.05        4.54       1015.70\n",
       "1/5/2017     18.39     74.94        3.30       1014.33"
      ]
     },
     "execution_count": 12,
     "metadata": {},
     "output_type": "execute_result"
    }
   ],
   "source": [
    "delhiclimate_df.head()"
   ]
  },
  {
   "cell_type": "code",
   "execution_count": 13,
   "id": "102f8524",
   "metadata": {},
   "outputs": [],
   "source": [
    "delhiclimate_df.sort_values(by='date', inplace=True)"
   ]
  },
  {
   "cell_type": "code",
   "execution_count": 14,
   "id": "730efe17",
   "metadata": {},
   "outputs": [
    {
     "data": {
      "text/html": [
       "<div>\n",
       "<style scoped>\n",
       "    .dataframe tbody tr th:only-of-type {\n",
       "        vertical-align: middle;\n",
       "    }\n",
       "\n",
       "    .dataframe tbody tr th {\n",
       "        vertical-align: top;\n",
       "    }\n",
       "\n",
       "    .dataframe thead th {\n",
       "        text-align: right;\n",
       "    }\n",
       "</style>\n",
       "<table border=\"1\" class=\"dataframe\">\n",
       "  <thead>\n",
       "    <tr style=\"text-align: right;\">\n",
       "      <th></th>\n",
       "      <th>meantemp</th>\n",
       "      <th>humidity</th>\n",
       "      <th>wind_speed</th>\n",
       "      <th>meanpressure</th>\n",
       "    </tr>\n",
       "    <tr>\n",
       "      <th>date</th>\n",
       "      <th></th>\n",
       "      <th></th>\n",
       "      <th></th>\n",
       "      <th></th>\n",
       "    </tr>\n",
       "  </thead>\n",
       "  <tbody>\n",
       "    <tr>\n",
       "      <th>1/1/2013</th>\n",
       "      <td>10.00</td>\n",
       "      <td>84.50</td>\n",
       "      <td>0.00</td>\n",
       "      <td>1015.67</td>\n",
       "    </tr>\n",
       "    <tr>\n",
       "      <th>1/1/2014</th>\n",
       "      <td>13.38</td>\n",
       "      <td>89.62</td>\n",
       "      <td>7.65</td>\n",
       "      <td>1021.00</td>\n",
       "    </tr>\n",
       "    <tr>\n",
       "      <th>1/1/2015</th>\n",
       "      <td>14.75</td>\n",
       "      <td>72.00</td>\n",
       "      <td>0.92</td>\n",
       "      <td>1017.50</td>\n",
       "    </tr>\n",
       "    <tr>\n",
       "      <th>1/1/2016</th>\n",
       "      <td>14.71</td>\n",
       "      <td>72.29</td>\n",
       "      <td>1.06</td>\n",
       "      <td>1021.14</td>\n",
       "    </tr>\n",
       "    <tr>\n",
       "      <th>1/1/2017</th>\n",
       "      <td>15.91</td>\n",
       "      <td>85.87</td>\n",
       "      <td>2.74</td>\n",
       "      <td>59.00</td>\n",
       "    </tr>\n",
       "    <tr>\n",
       "      <th>...</th>\n",
       "      <td>...</td>\n",
       "      <td>...</td>\n",
       "      <td>...</td>\n",
       "      <td>...</td>\n",
       "    </tr>\n",
       "    <tr>\n",
       "      <th>9/8/2016</th>\n",
       "      <td>31.92</td>\n",
       "      <td>58.00</td>\n",
       "      <td>10.81</td>\n",
       "      <td>1005.17</td>\n",
       "    </tr>\n",
       "    <tr>\n",
       "      <th>9/9/2013</th>\n",
       "      <td>31.00</td>\n",
       "      <td>57.50</td>\n",
       "      <td>42.22</td>\n",
       "      <td>1007.00</td>\n",
       "    </tr>\n",
       "    <tr>\n",
       "      <th>9/9/2014</th>\n",
       "      <td>31.00</td>\n",
       "      <td>70.12</td>\n",
       "      <td>1.85</td>\n",
       "      <td>1002.38</td>\n",
       "    </tr>\n",
       "    <tr>\n",
       "      <th>9/9/2015</th>\n",
       "      <td>31.00</td>\n",
       "      <td>47.88</td>\n",
       "      <td>10.19</td>\n",
       "      <td>1005.62</td>\n",
       "    </tr>\n",
       "    <tr>\n",
       "      <th>9/9/2016</th>\n",
       "      <td>30.56</td>\n",
       "      <td>56.67</td>\n",
       "      <td>11.52</td>\n",
       "      <td>1004.33</td>\n",
       "    </tr>\n",
       "  </tbody>\n",
       "</table>\n",
       "<p>1576 rows × 4 columns</p>\n",
       "</div>"
      ],
      "text/plain": [
       "          meantemp  humidity  wind_speed  meanpressure\n",
       "date                                                  \n",
       "1/1/2013     10.00     84.50        0.00       1015.67\n",
       "1/1/2014     13.38     89.62        7.65       1021.00\n",
       "1/1/2015     14.75     72.00        0.92       1017.50\n",
       "1/1/2016     14.71     72.29        1.06       1021.14\n",
       "1/1/2017     15.91     85.87        2.74         59.00\n",
       "...            ...       ...         ...           ...\n",
       "9/8/2016     31.92     58.00       10.81       1005.17\n",
       "9/9/2013     31.00     57.50       42.22       1007.00\n",
       "9/9/2014     31.00     70.12        1.85       1002.38\n",
       "9/9/2015     31.00     47.88       10.19       1005.62\n",
       "9/9/2016     30.56     56.67       11.52       1004.33\n",
       "\n",
       "[1576 rows x 4 columns]"
      ]
     },
     "execution_count": 14,
     "metadata": {},
     "output_type": "execute_result"
    }
   ],
   "source": [
    "delhiclimate_df"
   ]
  },
  {
   "cell_type": "code",
   "execution_count": 15,
   "id": "3e38ae19",
   "metadata": {},
   "outputs": [
    {
     "data": {
      "text/plain": [
       "meantemp        float64\n",
       "humidity        float64\n",
       "wind_speed      float64\n",
       "meanpressure    float64\n",
       "dtype: object"
      ]
     },
     "execution_count": 15,
     "metadata": {},
     "output_type": "execute_result"
    }
   ],
   "source": [
    "delhiclimate_df.dtypes"
   ]
  },
  {
   "cell_type": "code",
   "execution_count": 16,
   "id": "017fe07e",
   "metadata": {},
   "outputs": [],
   "source": [
    "delhiclimate_df.rename(columns={'meantemp':'Mean_Temp'}, inplace=True)"
   ]
  },
  {
   "cell_type": "code",
   "execution_count": 17,
   "id": "13945a98",
   "metadata": {},
   "outputs": [],
   "source": [
    "delhiclimate_df.rename(columns={'humidity':'Humidity'}, inplace=True)"
   ]
  },
  {
   "cell_type": "code",
   "execution_count": 18,
   "id": "c3a3cd2d",
   "metadata": {},
   "outputs": [],
   "source": [
    "delhiclimate_df.rename(columns={'wind_speed':'Wind_Speed'}, inplace=True)"
   ]
  },
  {
   "cell_type": "code",
   "execution_count": 19,
   "id": "9147eccb",
   "metadata": {},
   "outputs": [],
   "source": [
    "delhiclimate_df.rename(columns={'meanpressure':'Mean_Pressure'}, inplace=True)"
   ]
  },
  {
   "cell_type": "code",
   "execution_count": 20,
   "id": "955d5ad0",
   "metadata": {},
   "outputs": [
    {
     "data": {
      "text/html": [
       "<div>\n",
       "<style scoped>\n",
       "    .dataframe tbody tr th:only-of-type {\n",
       "        vertical-align: middle;\n",
       "    }\n",
       "\n",
       "    .dataframe tbody tr th {\n",
       "        vertical-align: top;\n",
       "    }\n",
       "\n",
       "    .dataframe thead th {\n",
       "        text-align: right;\n",
       "    }\n",
       "</style>\n",
       "<table border=\"1\" class=\"dataframe\">\n",
       "  <thead>\n",
       "    <tr style=\"text-align: right;\">\n",
       "      <th></th>\n",
       "      <th>Mean_Temp</th>\n",
       "      <th>Humidity</th>\n",
       "      <th>Wind_Speed</th>\n",
       "      <th>Mean_Pressure</th>\n",
       "    </tr>\n",
       "    <tr>\n",
       "      <th>date</th>\n",
       "      <th></th>\n",
       "      <th></th>\n",
       "      <th></th>\n",
       "      <th></th>\n",
       "    </tr>\n",
       "  </thead>\n",
       "  <tbody>\n",
       "    <tr>\n",
       "      <th>1/1/2013</th>\n",
       "      <td>10.00</td>\n",
       "      <td>84.50</td>\n",
       "      <td>0.00</td>\n",
       "      <td>1015.67</td>\n",
       "    </tr>\n",
       "    <tr>\n",
       "      <th>1/1/2014</th>\n",
       "      <td>13.38</td>\n",
       "      <td>89.62</td>\n",
       "      <td>7.65</td>\n",
       "      <td>1021.00</td>\n",
       "    </tr>\n",
       "    <tr>\n",
       "      <th>1/1/2015</th>\n",
       "      <td>14.75</td>\n",
       "      <td>72.00</td>\n",
       "      <td>0.92</td>\n",
       "      <td>1017.50</td>\n",
       "    </tr>\n",
       "    <tr>\n",
       "      <th>1/1/2016</th>\n",
       "      <td>14.71</td>\n",
       "      <td>72.29</td>\n",
       "      <td>1.06</td>\n",
       "      <td>1021.14</td>\n",
       "    </tr>\n",
       "    <tr>\n",
       "      <th>1/1/2017</th>\n",
       "      <td>15.91</td>\n",
       "      <td>85.87</td>\n",
       "      <td>2.74</td>\n",
       "      <td>59.00</td>\n",
       "    </tr>\n",
       "  </tbody>\n",
       "</table>\n",
       "</div>"
      ],
      "text/plain": [
       "          Mean_Temp  Humidity  Wind_Speed  Mean_Pressure\n",
       "date                                                    \n",
       "1/1/2013      10.00     84.50        0.00        1015.67\n",
       "1/1/2014      13.38     89.62        7.65        1021.00\n",
       "1/1/2015      14.75     72.00        0.92        1017.50\n",
       "1/1/2016      14.71     72.29        1.06        1021.14\n",
       "1/1/2017      15.91     85.87        2.74          59.00"
      ]
     },
     "execution_count": 20,
     "metadata": {},
     "output_type": "execute_result"
    }
   ],
   "source": [
    "delhiclimate_df.head()"
   ]
  },
  {
   "cell_type": "code",
   "execution_count": 21,
   "id": "82e59911",
   "metadata": {},
   "outputs": [],
   "source": [
    "delhiclimate_df.index = delhiclimate_df.index.rename('Date')"
   ]
  },
  {
   "cell_type": "code",
   "execution_count": 22,
   "id": "dd72c8e9",
   "metadata": {},
   "outputs": [
    {
     "data": {
      "text/html": [
       "<div>\n",
       "<style scoped>\n",
       "    .dataframe tbody tr th:only-of-type {\n",
       "        vertical-align: middle;\n",
       "    }\n",
       "\n",
       "    .dataframe tbody tr th {\n",
       "        vertical-align: top;\n",
       "    }\n",
       "\n",
       "    .dataframe thead th {\n",
       "        text-align: right;\n",
       "    }\n",
       "</style>\n",
       "<table border=\"1\" class=\"dataframe\">\n",
       "  <thead>\n",
       "    <tr style=\"text-align: right;\">\n",
       "      <th></th>\n",
       "      <th>Mean_Temp</th>\n",
       "      <th>Humidity</th>\n",
       "      <th>Wind_Speed</th>\n",
       "      <th>Mean_Pressure</th>\n",
       "    </tr>\n",
       "    <tr>\n",
       "      <th>Date</th>\n",
       "      <th></th>\n",
       "      <th></th>\n",
       "      <th></th>\n",
       "      <th></th>\n",
       "    </tr>\n",
       "  </thead>\n",
       "  <tbody>\n",
       "    <tr>\n",
       "      <th>1/1/2013</th>\n",
       "      <td>10.00</td>\n",
       "      <td>84.50</td>\n",
       "      <td>0.00</td>\n",
       "      <td>1015.67</td>\n",
       "    </tr>\n",
       "    <tr>\n",
       "      <th>1/1/2014</th>\n",
       "      <td>13.38</td>\n",
       "      <td>89.62</td>\n",
       "      <td>7.65</td>\n",
       "      <td>1021.00</td>\n",
       "    </tr>\n",
       "    <tr>\n",
       "      <th>1/1/2015</th>\n",
       "      <td>14.75</td>\n",
       "      <td>72.00</td>\n",
       "      <td>0.92</td>\n",
       "      <td>1017.50</td>\n",
       "    </tr>\n",
       "    <tr>\n",
       "      <th>1/1/2016</th>\n",
       "      <td>14.71</td>\n",
       "      <td>72.29</td>\n",
       "      <td>1.06</td>\n",
       "      <td>1021.14</td>\n",
       "    </tr>\n",
       "    <tr>\n",
       "      <th>1/1/2017</th>\n",
       "      <td>15.91</td>\n",
       "      <td>85.87</td>\n",
       "      <td>2.74</td>\n",
       "      <td>59.00</td>\n",
       "    </tr>\n",
       "  </tbody>\n",
       "</table>\n",
       "</div>"
      ],
      "text/plain": [
       "          Mean_Temp  Humidity  Wind_Speed  Mean_Pressure\n",
       "Date                                                    \n",
       "1/1/2013      10.00     84.50        0.00        1015.67\n",
       "1/1/2014      13.38     89.62        7.65        1021.00\n",
       "1/1/2015      14.75     72.00        0.92        1017.50\n",
       "1/1/2016      14.71     72.29        1.06        1021.14\n",
       "1/1/2017      15.91     85.87        2.74          59.00"
      ]
     },
     "execution_count": 22,
     "metadata": {},
     "output_type": "execute_result"
    }
   ],
   "source": [
    "delhiclimate_df.head()"
   ]
  },
  {
   "cell_type": "code",
   "execution_count": 23,
   "id": "277cea92",
   "metadata": {},
   "outputs": [
    {
     "data": {
      "text/plain": [
       "pandas.core.indexes.base.Index"
      ]
     },
     "execution_count": 23,
     "metadata": {},
     "output_type": "execute_result"
    }
   ],
   "source": [
    "type(delhiclimate_df.index)"
   ]
  },
  {
   "cell_type": "code",
   "execution_count": 24,
   "id": "565760f9",
   "metadata": {},
   "outputs": [],
   "source": [
    "delhiclimate_df.index = pd.to_datetime(delhiclimate_df.index)"
   ]
  },
  {
   "cell_type": "code",
   "execution_count": 25,
   "id": "3738eefd",
   "metadata": {},
   "outputs": [
    {
     "data": {
      "text/plain": [
       "pandas.core.indexes.datetimes.DatetimeIndex"
      ]
     },
     "execution_count": 25,
     "metadata": {},
     "output_type": "execute_result"
    }
   ],
   "source": [
    "type(delhiclimate_df.index)"
   ]
  },
  {
   "cell_type": "code",
   "execution_count": 26,
   "id": "1c43f596",
   "metadata": {},
   "outputs": [],
   "source": [
    "delhiclimate_df['Year'] = delhiclimate_df.index.year"
   ]
  },
  {
   "cell_type": "code",
   "execution_count": 27,
   "id": "dfdcfff8",
   "metadata": {},
   "outputs": [
    {
     "data": {
      "text/html": [
       "<div>\n",
       "<style scoped>\n",
       "    .dataframe tbody tr th:only-of-type {\n",
       "        vertical-align: middle;\n",
       "    }\n",
       "\n",
       "    .dataframe tbody tr th {\n",
       "        vertical-align: top;\n",
       "    }\n",
       "\n",
       "    .dataframe thead th {\n",
       "        text-align: right;\n",
       "    }\n",
       "</style>\n",
       "<table border=\"1\" class=\"dataframe\">\n",
       "  <thead>\n",
       "    <tr style=\"text-align: right;\">\n",
       "      <th></th>\n",
       "      <th>Mean_Temp</th>\n",
       "      <th>Humidity</th>\n",
       "      <th>Wind_Speed</th>\n",
       "      <th>Mean_Pressure</th>\n",
       "      <th>Year</th>\n",
       "    </tr>\n",
       "    <tr>\n",
       "      <th>Date</th>\n",
       "      <th></th>\n",
       "      <th></th>\n",
       "      <th></th>\n",
       "      <th></th>\n",
       "      <th></th>\n",
       "    </tr>\n",
       "  </thead>\n",
       "  <tbody>\n",
       "    <tr>\n",
       "      <th>2013-01-01</th>\n",
       "      <td>10.00</td>\n",
       "      <td>84.50</td>\n",
       "      <td>0.00</td>\n",
       "      <td>1015.67</td>\n",
       "      <td>2013</td>\n",
       "    </tr>\n",
       "    <tr>\n",
       "      <th>2014-01-01</th>\n",
       "      <td>13.38</td>\n",
       "      <td>89.62</td>\n",
       "      <td>7.65</td>\n",
       "      <td>1021.00</td>\n",
       "      <td>2014</td>\n",
       "    </tr>\n",
       "    <tr>\n",
       "      <th>2015-01-01</th>\n",
       "      <td>14.75</td>\n",
       "      <td>72.00</td>\n",
       "      <td>0.92</td>\n",
       "      <td>1017.50</td>\n",
       "      <td>2015</td>\n",
       "    </tr>\n",
       "    <tr>\n",
       "      <th>2016-01-01</th>\n",
       "      <td>14.71</td>\n",
       "      <td>72.29</td>\n",
       "      <td>1.06</td>\n",
       "      <td>1021.14</td>\n",
       "      <td>2016</td>\n",
       "    </tr>\n",
       "    <tr>\n",
       "      <th>2017-01-01</th>\n",
       "      <td>15.91</td>\n",
       "      <td>85.87</td>\n",
       "      <td>2.74</td>\n",
       "      <td>59.00</td>\n",
       "      <td>2017</td>\n",
       "    </tr>\n",
       "  </tbody>\n",
       "</table>\n",
       "</div>"
      ],
      "text/plain": [
       "            Mean_Temp  Humidity  Wind_Speed  Mean_Pressure  Year\n",
       "Date                                                            \n",
       "2013-01-01      10.00     84.50        0.00        1015.67  2013\n",
       "2014-01-01      13.38     89.62        7.65        1021.00  2014\n",
       "2015-01-01      14.75     72.00        0.92        1017.50  2015\n",
       "2016-01-01      14.71     72.29        1.06        1021.14  2016\n",
       "2017-01-01      15.91     85.87        2.74          59.00  2017"
      ]
     },
     "execution_count": 27,
     "metadata": {},
     "output_type": "execute_result"
    }
   ],
   "source": [
    "delhiclimate_df.head()"
   ]
  },
  {
   "cell_type": "code",
   "execution_count": 28,
   "id": "e8fb7a12",
   "metadata": {},
   "outputs": [],
   "source": [
    "delhiclimate_df['Month'] = delhiclimate_df.index.month"
   ]
  },
  {
   "cell_type": "code",
   "execution_count": 29,
   "id": "9ac2c6af",
   "metadata": {},
   "outputs": [
    {
     "data": {
      "text/html": [
       "<div>\n",
       "<style scoped>\n",
       "    .dataframe tbody tr th:only-of-type {\n",
       "        vertical-align: middle;\n",
       "    }\n",
       "\n",
       "    .dataframe tbody tr th {\n",
       "        vertical-align: top;\n",
       "    }\n",
       "\n",
       "    .dataframe thead th {\n",
       "        text-align: right;\n",
       "    }\n",
       "</style>\n",
       "<table border=\"1\" class=\"dataframe\">\n",
       "  <thead>\n",
       "    <tr style=\"text-align: right;\">\n",
       "      <th></th>\n",
       "      <th>Mean_Temp</th>\n",
       "      <th>Humidity</th>\n",
       "      <th>Wind_Speed</th>\n",
       "      <th>Mean_Pressure</th>\n",
       "      <th>Year</th>\n",
       "      <th>Month</th>\n",
       "    </tr>\n",
       "    <tr>\n",
       "      <th>Date</th>\n",
       "      <th></th>\n",
       "      <th></th>\n",
       "      <th></th>\n",
       "      <th></th>\n",
       "      <th></th>\n",
       "      <th></th>\n",
       "    </tr>\n",
       "  </thead>\n",
       "  <tbody>\n",
       "    <tr>\n",
       "      <th>2013-01-01</th>\n",
       "      <td>10.00</td>\n",
       "      <td>84.50</td>\n",
       "      <td>0.00</td>\n",
       "      <td>1015.67</td>\n",
       "      <td>2013</td>\n",
       "      <td>1</td>\n",
       "    </tr>\n",
       "    <tr>\n",
       "      <th>2014-01-01</th>\n",
       "      <td>13.38</td>\n",
       "      <td>89.62</td>\n",
       "      <td>7.65</td>\n",
       "      <td>1021.00</td>\n",
       "      <td>2014</td>\n",
       "      <td>1</td>\n",
       "    </tr>\n",
       "    <tr>\n",
       "      <th>2015-01-01</th>\n",
       "      <td>14.75</td>\n",
       "      <td>72.00</td>\n",
       "      <td>0.92</td>\n",
       "      <td>1017.50</td>\n",
       "      <td>2015</td>\n",
       "      <td>1</td>\n",
       "    </tr>\n",
       "    <tr>\n",
       "      <th>2016-01-01</th>\n",
       "      <td>14.71</td>\n",
       "      <td>72.29</td>\n",
       "      <td>1.06</td>\n",
       "      <td>1021.14</td>\n",
       "      <td>2016</td>\n",
       "      <td>1</td>\n",
       "    </tr>\n",
       "    <tr>\n",
       "      <th>2017-01-01</th>\n",
       "      <td>15.91</td>\n",
       "      <td>85.87</td>\n",
       "      <td>2.74</td>\n",
       "      <td>59.00</td>\n",
       "      <td>2017</td>\n",
       "      <td>1</td>\n",
       "    </tr>\n",
       "  </tbody>\n",
       "</table>\n",
       "</div>"
      ],
      "text/plain": [
       "            Mean_Temp  Humidity  Wind_Speed  Mean_Pressure  Year  Month\n",
       "Date                                                                   \n",
       "2013-01-01      10.00     84.50        0.00        1015.67  2013      1\n",
       "2014-01-01      13.38     89.62        7.65        1021.00  2014      1\n",
       "2015-01-01      14.75     72.00        0.92        1017.50  2015      1\n",
       "2016-01-01      14.71     72.29        1.06        1021.14  2016      1\n",
       "2017-01-01      15.91     85.87        2.74          59.00  2017      1"
      ]
     },
     "execution_count": 29,
     "metadata": {},
     "output_type": "execute_result"
    }
   ],
   "source": [
    "delhiclimate_df.head()"
   ]
  },
  {
   "cell_type": "code",
   "execution_count": 30,
   "id": "5c4a83f4",
   "metadata": {},
   "outputs": [],
   "source": [
    "delhiclimate_df['Month'] = delhiclimate_df['Month'].apply(lambda x: calendar.month_abbr[x])"
   ]
  },
  {
   "cell_type": "code",
   "execution_count": 31,
   "id": "78714a24",
   "metadata": {},
   "outputs": [
    {
     "data": {
      "text/html": [
       "<div>\n",
       "<style scoped>\n",
       "    .dataframe tbody tr th:only-of-type {\n",
       "        vertical-align: middle;\n",
       "    }\n",
       "\n",
       "    .dataframe tbody tr th {\n",
       "        vertical-align: top;\n",
       "    }\n",
       "\n",
       "    .dataframe thead th {\n",
       "        text-align: right;\n",
       "    }\n",
       "</style>\n",
       "<table border=\"1\" class=\"dataframe\">\n",
       "  <thead>\n",
       "    <tr style=\"text-align: right;\">\n",
       "      <th></th>\n",
       "      <th>Mean_Temp</th>\n",
       "      <th>Humidity</th>\n",
       "      <th>Wind_Speed</th>\n",
       "      <th>Mean_Pressure</th>\n",
       "      <th>Year</th>\n",
       "      <th>Month</th>\n",
       "    </tr>\n",
       "    <tr>\n",
       "      <th>Date</th>\n",
       "      <th></th>\n",
       "      <th></th>\n",
       "      <th></th>\n",
       "      <th></th>\n",
       "      <th></th>\n",
       "      <th></th>\n",
       "    </tr>\n",
       "  </thead>\n",
       "  <tbody>\n",
       "    <tr>\n",
       "      <th>2013-01-01</th>\n",
       "      <td>10.00</td>\n",
       "      <td>84.50</td>\n",
       "      <td>0.00</td>\n",
       "      <td>1015.67</td>\n",
       "      <td>2013</td>\n",
       "      <td>Jan</td>\n",
       "    </tr>\n",
       "    <tr>\n",
       "      <th>2014-01-01</th>\n",
       "      <td>13.38</td>\n",
       "      <td>89.62</td>\n",
       "      <td>7.65</td>\n",
       "      <td>1021.00</td>\n",
       "      <td>2014</td>\n",
       "      <td>Jan</td>\n",
       "    </tr>\n",
       "    <tr>\n",
       "      <th>2015-01-01</th>\n",
       "      <td>14.75</td>\n",
       "      <td>72.00</td>\n",
       "      <td>0.92</td>\n",
       "      <td>1017.50</td>\n",
       "      <td>2015</td>\n",
       "      <td>Jan</td>\n",
       "    </tr>\n",
       "    <tr>\n",
       "      <th>2016-01-01</th>\n",
       "      <td>14.71</td>\n",
       "      <td>72.29</td>\n",
       "      <td>1.06</td>\n",
       "      <td>1021.14</td>\n",
       "      <td>2016</td>\n",
       "      <td>Jan</td>\n",
       "    </tr>\n",
       "    <tr>\n",
       "      <th>2017-01-01</th>\n",
       "      <td>15.91</td>\n",
       "      <td>85.87</td>\n",
       "      <td>2.74</td>\n",
       "      <td>59.00</td>\n",
       "      <td>2017</td>\n",
       "      <td>Jan</td>\n",
       "    </tr>\n",
       "  </tbody>\n",
       "</table>\n",
       "</div>"
      ],
      "text/plain": [
       "            Mean_Temp  Humidity  Wind_Speed  Mean_Pressure  Year Month\n",
       "Date                                                                  \n",
       "2013-01-01      10.00     84.50        0.00        1015.67  2013   Jan\n",
       "2014-01-01      13.38     89.62        7.65        1021.00  2014   Jan\n",
       "2015-01-01      14.75     72.00        0.92        1017.50  2015   Jan\n",
       "2016-01-01      14.71     72.29        1.06        1021.14  2016   Jan\n",
       "2017-01-01      15.91     85.87        2.74          59.00  2017   Jan"
      ]
     },
     "execution_count": 31,
     "metadata": {},
     "output_type": "execute_result"
    }
   ],
   "source": [
    "delhiclimate_df.head()"
   ]
  },
  {
   "cell_type": "code",
   "execution_count": 32,
   "id": "29725035",
   "metadata": {},
   "outputs": [],
   "source": [
    "delhiclimate_df.sort_values('Date', inplace=True)"
   ]
  },
  {
   "cell_type": "code",
   "execution_count": 33,
   "id": "e9de9365",
   "metadata": {},
   "outputs": [
    {
     "data": {
      "text/html": [
       "<div>\n",
       "<style scoped>\n",
       "    .dataframe tbody tr th:only-of-type {\n",
       "        vertical-align: middle;\n",
       "    }\n",
       "\n",
       "    .dataframe tbody tr th {\n",
       "        vertical-align: top;\n",
       "    }\n",
       "\n",
       "    .dataframe thead th {\n",
       "        text-align: right;\n",
       "    }\n",
       "</style>\n",
       "<table border=\"1\" class=\"dataframe\">\n",
       "  <thead>\n",
       "    <tr style=\"text-align: right;\">\n",
       "      <th></th>\n",
       "      <th>Mean_Temp</th>\n",
       "      <th>Humidity</th>\n",
       "      <th>Wind_Speed</th>\n",
       "      <th>Mean_Pressure</th>\n",
       "      <th>Year</th>\n",
       "      <th>Month</th>\n",
       "    </tr>\n",
       "    <tr>\n",
       "      <th>Date</th>\n",
       "      <th></th>\n",
       "      <th></th>\n",
       "      <th></th>\n",
       "      <th></th>\n",
       "      <th></th>\n",
       "      <th></th>\n",
       "    </tr>\n",
       "  </thead>\n",
       "  <tbody>\n",
       "    <tr>\n",
       "      <th>2013-01-01</th>\n",
       "      <td>10.00</td>\n",
       "      <td>84.50</td>\n",
       "      <td>0.00</td>\n",
       "      <td>1015.67</td>\n",
       "      <td>2013</td>\n",
       "      <td>Jan</td>\n",
       "    </tr>\n",
       "    <tr>\n",
       "      <th>2013-01-02</th>\n",
       "      <td>7.40</td>\n",
       "      <td>92.00</td>\n",
       "      <td>2.98</td>\n",
       "      <td>1017.80</td>\n",
       "      <td>2013</td>\n",
       "      <td>Jan</td>\n",
       "    </tr>\n",
       "    <tr>\n",
       "      <th>2013-01-03</th>\n",
       "      <td>7.17</td>\n",
       "      <td>87.00</td>\n",
       "      <td>4.63</td>\n",
       "      <td>1018.67</td>\n",
       "      <td>2013</td>\n",
       "      <td>Jan</td>\n",
       "    </tr>\n",
       "    <tr>\n",
       "      <th>2013-01-04</th>\n",
       "      <td>8.67</td>\n",
       "      <td>71.33</td>\n",
       "      <td>1.23</td>\n",
       "      <td>1017.17</td>\n",
       "      <td>2013</td>\n",
       "      <td>Jan</td>\n",
       "    </tr>\n",
       "    <tr>\n",
       "      <th>2013-01-05</th>\n",
       "      <td>6.00</td>\n",
       "      <td>86.83</td>\n",
       "      <td>3.70</td>\n",
       "      <td>1016.50</td>\n",
       "      <td>2013</td>\n",
       "      <td>Jan</td>\n",
       "    </tr>\n",
       "  </tbody>\n",
       "</table>\n",
       "</div>"
      ],
      "text/plain": [
       "            Mean_Temp  Humidity  Wind_Speed  Mean_Pressure  Year Month\n",
       "Date                                                                  \n",
       "2013-01-01      10.00     84.50        0.00        1015.67  2013   Jan\n",
       "2013-01-02       7.40     92.00        2.98        1017.80  2013   Jan\n",
       "2013-01-03       7.17     87.00        4.63        1018.67  2013   Jan\n",
       "2013-01-04       8.67     71.33        1.23        1017.17  2013   Jan\n",
       "2013-01-05       6.00     86.83        3.70        1016.50  2013   Jan"
      ]
     },
     "execution_count": 33,
     "metadata": {},
     "output_type": "execute_result"
    }
   ],
   "source": [
    "delhiclimate_df.head()"
   ]
  },
  {
   "cell_type": "markdown",
   "id": "c1257ece",
   "metadata": {},
   "source": [
    "Check for null values"
   ]
  },
  {
   "cell_type": "code",
   "execution_count": 34,
   "id": "2a0d58f3",
   "metadata": {},
   "outputs": [
    {
     "data": {
      "text/plain": [
       "Mean_Temp        False\n",
       "Humidity         False\n",
       "Wind_Speed       False\n",
       "Mean_Pressure    False\n",
       "Year             False\n",
       "Month            False\n",
       "dtype: bool"
      ]
     },
     "execution_count": 34,
     "metadata": {},
     "output_type": "execute_result"
    }
   ],
   "source": [
    "delhiclimate_df.isnull().any()"
   ]
  },
  {
   "cell_type": "markdown",
   "id": "18bd2e68",
   "metadata": {},
   "source": [
    "Evaluate DF"
   ]
  },
  {
   "cell_type": "code",
   "execution_count": 35,
   "id": "ad3f3ecc",
   "metadata": {},
   "outputs": [
    {
     "data": {
      "text/plain": [
       "9456"
      ]
     },
     "execution_count": 35,
     "metadata": {},
     "output_type": "execute_result"
    }
   ],
   "source": [
    "delhiclimate_df.size"
   ]
  },
  {
   "cell_type": "code",
   "execution_count": 36,
   "id": "814799c9",
   "metadata": {},
   "outputs": [
    {
     "data": {
      "text/plain": [
       "(1576, 6)"
      ]
     },
     "execution_count": 36,
     "metadata": {},
     "output_type": "execute_result"
    }
   ],
   "source": [
    "delhiclimate_df.shape"
   ]
  },
  {
   "cell_type": "code",
   "execution_count": 37,
   "id": "b2791200",
   "metadata": {},
   "outputs": [
    {
     "data": {
      "text/html": [
       "<div>\n",
       "<style scoped>\n",
       "    .dataframe tbody tr th:only-of-type {\n",
       "        vertical-align: middle;\n",
       "    }\n",
       "\n",
       "    .dataframe tbody tr th {\n",
       "        vertical-align: top;\n",
       "    }\n",
       "\n",
       "    .dataframe thead th {\n",
       "        text-align: right;\n",
       "    }\n",
       "</style>\n",
       "<table border=\"1\" class=\"dataframe\">\n",
       "  <thead>\n",
       "    <tr style=\"text-align: right;\">\n",
       "      <th></th>\n",
       "      <th>Mean_Temp</th>\n",
       "      <th>Humidity</th>\n",
       "      <th>Wind_Speed</th>\n",
       "      <th>Mean_Pressure</th>\n",
       "      <th>Year</th>\n",
       "    </tr>\n",
       "  </thead>\n",
       "  <tbody>\n",
       "    <tr>\n",
       "      <th>count</th>\n",
       "      <td>1576.000000</td>\n",
       "      <td>1576.000000</td>\n",
       "      <td>1576.000000</td>\n",
       "      <td>1576.000000</td>\n",
       "      <td>1576.000000</td>\n",
       "    </tr>\n",
       "    <tr>\n",
       "      <th>mean</th>\n",
       "      <td>25.221808</td>\n",
       "      <td>60.445273</td>\n",
       "      <td>6.899086</td>\n",
       "      <td>1010.593204</td>\n",
       "      <td>2014.683376</td>\n",
       "    </tr>\n",
       "    <tr>\n",
       "      <th>std</th>\n",
       "      <td>7.344906</td>\n",
       "      <td>16.979977</td>\n",
       "      <td>4.510866</td>\n",
       "      <td>175.242606</td>\n",
       "      <td>1.258118</td>\n",
       "    </tr>\n",
       "    <tr>\n",
       "      <th>min</th>\n",
       "      <td>6.000000</td>\n",
       "      <td>13.430000</td>\n",
       "      <td>0.000000</td>\n",
       "      <td>-3.040000</td>\n",
       "      <td>2013.000000</td>\n",
       "    </tr>\n",
       "    <tr>\n",
       "      <th>25%</th>\n",
       "      <td>18.500000</td>\n",
       "      <td>49.750000</td>\n",
       "      <td>3.700000</td>\n",
       "      <td>1001.880000</td>\n",
       "      <td>2014.000000</td>\n",
       "    </tr>\n",
       "    <tr>\n",
       "      <th>50%</th>\n",
       "      <td>27.170000</td>\n",
       "      <td>62.440000</td>\n",
       "      <td>6.365000</td>\n",
       "      <td>1009.055000</td>\n",
       "      <td>2015.000000</td>\n",
       "    </tr>\n",
       "    <tr>\n",
       "      <th>75%</th>\n",
       "      <td>31.140000</td>\n",
       "      <td>72.120000</td>\n",
       "      <td>9.260000</td>\n",
       "      <td>1015.200000</td>\n",
       "      <td>2016.000000</td>\n",
       "    </tr>\n",
       "    <tr>\n",
       "      <th>max</th>\n",
       "      <td>38.710000</td>\n",
       "      <td>100.000000</td>\n",
       "      <td>42.220000</td>\n",
       "      <td>7679.330000</td>\n",
       "      <td>2017.000000</td>\n",
       "    </tr>\n",
       "  </tbody>\n",
       "</table>\n",
       "</div>"
      ],
      "text/plain": [
       "         Mean_Temp     Humidity   Wind_Speed  Mean_Pressure         Year\n",
       "count  1576.000000  1576.000000  1576.000000    1576.000000  1576.000000\n",
       "mean     25.221808    60.445273     6.899086    1010.593204  2014.683376\n",
       "std       7.344906    16.979977     4.510866     175.242606     1.258118\n",
       "min       6.000000    13.430000     0.000000      -3.040000  2013.000000\n",
       "25%      18.500000    49.750000     3.700000    1001.880000  2014.000000\n",
       "50%      27.170000    62.440000     6.365000    1009.055000  2015.000000\n",
       "75%      31.140000    72.120000     9.260000    1015.200000  2016.000000\n",
       "max      38.710000   100.000000    42.220000    7679.330000  2017.000000"
      ]
     },
     "execution_count": 37,
     "metadata": {},
     "output_type": "execute_result"
    }
   ],
   "source": [
    "delhiclimate_df.describe()"
   ]
  },
  {
   "cell_type": "markdown",
   "id": "57644112",
   "metadata": {},
   "source": [
    "We noticed that the Year column is not in a datetime format hence the describe() method is taking it in consideration. \n",
    "We need to change that."
   ]
  },
  {
   "cell_type": "code",
   "execution_count": 38,
   "id": "21ca7f5e",
   "metadata": {},
   "outputs": [],
   "source": [
    "delhiclimate_df['Year'] = pd.to_datetime(delhiclimate_df['Year'])"
   ]
  },
  {
   "cell_type": "code",
   "execution_count": 39,
   "id": "90099bf0",
   "metadata": {},
   "outputs": [
    {
     "data": {
      "text/html": [
       "<div>\n",
       "<style scoped>\n",
       "    .dataframe tbody tr th:only-of-type {\n",
       "        vertical-align: middle;\n",
       "    }\n",
       "\n",
       "    .dataframe tbody tr th {\n",
       "        vertical-align: top;\n",
       "    }\n",
       "\n",
       "    .dataframe thead th {\n",
       "        text-align: right;\n",
       "    }\n",
       "</style>\n",
       "<table border=\"1\" class=\"dataframe\">\n",
       "  <thead>\n",
       "    <tr style=\"text-align: right;\">\n",
       "      <th></th>\n",
       "      <th>Mean_Temp</th>\n",
       "      <th>Humidity</th>\n",
       "      <th>Wind_Speed</th>\n",
       "      <th>Mean_Pressure</th>\n",
       "    </tr>\n",
       "  </thead>\n",
       "  <tbody>\n",
       "    <tr>\n",
       "      <th>count</th>\n",
       "      <td>1576.000000</td>\n",
       "      <td>1576.000000</td>\n",
       "      <td>1576.000000</td>\n",
       "      <td>1576.000000</td>\n",
       "    </tr>\n",
       "    <tr>\n",
       "      <th>mean</th>\n",
       "      <td>25.221808</td>\n",
       "      <td>60.445273</td>\n",
       "      <td>6.899086</td>\n",
       "      <td>1010.593204</td>\n",
       "    </tr>\n",
       "    <tr>\n",
       "      <th>std</th>\n",
       "      <td>7.344906</td>\n",
       "      <td>16.979977</td>\n",
       "      <td>4.510866</td>\n",
       "      <td>175.242606</td>\n",
       "    </tr>\n",
       "    <tr>\n",
       "      <th>min</th>\n",
       "      <td>6.000000</td>\n",
       "      <td>13.430000</td>\n",
       "      <td>0.000000</td>\n",
       "      <td>-3.040000</td>\n",
       "    </tr>\n",
       "    <tr>\n",
       "      <th>25%</th>\n",
       "      <td>18.500000</td>\n",
       "      <td>49.750000</td>\n",
       "      <td>3.700000</td>\n",
       "      <td>1001.880000</td>\n",
       "    </tr>\n",
       "    <tr>\n",
       "      <th>50%</th>\n",
       "      <td>27.170000</td>\n",
       "      <td>62.440000</td>\n",
       "      <td>6.365000</td>\n",
       "      <td>1009.055000</td>\n",
       "    </tr>\n",
       "    <tr>\n",
       "      <th>75%</th>\n",
       "      <td>31.140000</td>\n",
       "      <td>72.120000</td>\n",
       "      <td>9.260000</td>\n",
       "      <td>1015.200000</td>\n",
       "    </tr>\n",
       "    <tr>\n",
       "      <th>max</th>\n",
       "      <td>38.710000</td>\n",
       "      <td>100.000000</td>\n",
       "      <td>42.220000</td>\n",
       "      <td>7679.330000</td>\n",
       "    </tr>\n",
       "  </tbody>\n",
       "</table>\n",
       "</div>"
      ],
      "text/plain": [
       "         Mean_Temp     Humidity   Wind_Speed  Mean_Pressure\n",
       "count  1576.000000  1576.000000  1576.000000    1576.000000\n",
       "mean     25.221808    60.445273     6.899086    1010.593204\n",
       "std       7.344906    16.979977     4.510866     175.242606\n",
       "min       6.000000    13.430000     0.000000      -3.040000\n",
       "25%      18.500000    49.750000     3.700000    1001.880000\n",
       "50%      27.170000    62.440000     6.365000    1009.055000\n",
       "75%      31.140000    72.120000     9.260000    1015.200000\n",
       "max      38.710000   100.000000    42.220000    7679.330000"
      ]
     },
     "execution_count": 39,
     "metadata": {},
     "output_type": "execute_result"
    }
   ],
   "source": [
    "delhiclimate_df.describe()"
   ]
  },
  {
   "cell_type": "markdown",
   "id": "6be15c96",
   "metadata": {},
   "source": [
    "#### Lets do some graphs to better understand our data"
   ]
  },
  {
   "cell_type": "markdown",
   "id": "db584f7e",
   "metadata": {},
   "source": [
    "Upon analyzing the temperature data for Delhi, it is noticeable that the temperatures can reach almost up to 40 degrees Celsius, while the mean temperature is around 25 degrees Celsius."
   ]
  },
  {
   "cell_type": "code",
   "execution_count": 125,
   "id": "f36bca15",
   "metadata": {},
   "outputs": [
    {
     "data": {
      "text/plain": [
       "<AxesSubplot:xlabel='Mean_Temp', ylabel='Count'>"
      ]
     },
     "execution_count": 125,
     "metadata": {},
     "output_type": "execute_result"
    },
    {
     "data": {
      "image/png": "[encoded data removed]",
      "text/plain": [
       "<Figure size 432x288 with 1 Axes>"
      ]
     },
     "metadata": {
      "needs_background": "light"
     },
     "output_type": "display_data"
    }
   ],
   "source": [
    "sns.histplot(delhiclimate_df.Mean_Temp, kde=True)"
   ]
  },
  {
   "cell_type": "markdown",
   "id": "cd76783c",
   "metadata": {},
   "source": [
    "It is also evident that the peak temperature occurs during the mid-year period."
   ]
  },
  {
   "cell_type": "code",
   "execution_count": 95,
   "id": "5c4d47a0",
   "metadata": {},
   "outputs": [
    {
     "data": {
      "text/plain": [
       "<AxesSubplot:xlabel='Date', ylabel='Mean_Temp'>"
      ]
     },
     "execution_count": 95,
     "metadata": {},
     "output_type": "execute_result"
    },
    {
     "data": {
      "image/png": "[encoded data removed]",
      "text/plain": [
       "<Figure size 1800x720 with 1 Axes>"
      ]
     },
     "metadata": {
      "needs_background": "light"
     },
     "output_type": "display_data"
    }
   ],
   "source": [
    "plt.figure(figsize=(25,10))\n",
    "sns.lineplot(data=delhiclimate_df['Mean_Temp'])"
   ]
  },
  {
   "cell_type": "markdown",
   "id": "77411af5",
   "metadata": {},
   "source": [
    "We can see a direct correlation between the mean temperature and humidity."
   ]
  },
  {
   "cell_type": "code",
   "execution_count": 45,
   "id": "94d42df2",
   "metadata": {},
   "outputs": [
    {
     "data": {
      "image/png": "[encoded data removed]",
      "text/plain": [
       "<Figure size 432x288 with 1 Axes>"
      ]
     },
     "metadata": {
      "needs_background": "light"
     },
     "output_type": "display_data"
    }
   ],
   "source": [
    "sns.scatterplot(x=delhiclimate_df['Mean_Temp'], y=delhiclimate_df['Humidity'])\n",
    "hue=delhiclimate_df['Humidity']"
   ]
  },
  {
   "cell_type": "markdown",
   "id": "cbac4049",
   "metadata": {},
   "source": [
    "It is also observable that wind speed reaches its peak during the months of April, May, and June, which are close to the middle of the year. We dont see a difference in Pressure during those months"
   ]
  },
  {
   "cell_type": "code",
   "execution_count": 92,
   "id": "6c483531",
   "metadata": {},
   "outputs": [
    {
     "data": {
      "text/plain": [
       "Text(0.5, 1.0, 'Pressure')"
      ]
     },
     "execution_count": 92,
     "metadata": {},
     "output_type": "execute_result"
    },
    {
     "data": {
      "image/png": "[encoded data removed]",
      "text/plain": [
       "<Figure size 1080x360 with 2 Axes>"
      ]
     },
     "metadata": {
      "needs_background": "light"
     },
     "output_type": "display_data"
    }
   ],
   "source": [
    "plt.figure(figsize=(15,5))\n",
    "plt.subplot(1,2,1)\n",
    "sns.barplot(x=delhiclimate_df['Month'], y=delhiclimate_df['Wind_Speed'], ci=None, palette=\"Blues\")\n",
    "plt.title(\"Wind Speed\")\n",
    "\n",
    "plt.subplot(1,2,2)\n",
    "sns.barplot(x=delhiclimate_df['Month'], y=delhiclimate_df['Mean_Pressure'], ci=None, palette=\"Blues\")\n",
    "plt.title(\"Pressure\")"
   ]
  },
  {
   "cell_type": "markdown",
   "id": "dac4d8fa",
   "metadata": {},
   "source": [
    "There is a clear correlation between wind speed and temperature, where a decrease in wind speed results in higher temperatures."
   ]
  },
  {
   "cell_type": "code",
   "execution_count": 123,
   "id": "38336030",
   "metadata": {},
   "outputs": [
    {
     "data": {
      "text/plain": [
       "<AxesSubplot:xlabel='Wind_Speed', ylabel='Mean_Temp'>"
      ]
     },
     "execution_count": 123,
     "metadata": {},
     "output_type": "execute_result"
    },
    {
     "data": {
      "image/png": "[encoded data removed]",
      "text/plain": [
       "<Figure size 720x360 with 1 Axes>"
      ]
     },
     "metadata": {
      "needs_background": "light"
     },
     "output_type": "display_data"
    }
   ],
   "source": [
    "plt.figure(figsize=(10,5))\n",
    "sns.scatterplot(x=delhiclimate_df['Wind_Speed'], y=delhiclimate_df['Mean_Temp'])"
   ]
  },
  {
   "cell_type": "markdown",
   "id": "4003a91b",
   "metadata": {},
   "source": [
    "### Conclusions"
   ]
  },
  {
   "cell_type": "markdown",
   "id": "4f83d11d",
   "metadata": {},
   "source": [
    "This project delved into the climate data of Delhi, India and uncovered some intriguing insights.\n",
    "\n",
    "- Delhi is a city with high temperatures, having a mean temperature of 25 degrees Celsius.\n",
    "- The months of April, May, and June experience the highest temperatures.\n",
    "- There is a direct correlation between temperature and humidity in Delhi, where an increase in temperature results in a decrease in humidity."
   ]
  }
 ],
 "metadata": {
  "kernelspec": {
   "display_name": "Python 3 (ipykernel)",
   "language": "python",
   "name": "python3"
  },
  "language_info": {
   "codemirror_mode": {
    "name": "ipython",
    "version": 3
   },
   "file_extension": ".py",
   "mimetype": "text/x-python",
   "name": "python",
   "nbconvert_exporter": "python",
   "pygments_lexer": "ipython3",
   "version": "3.9.12"
  }
 },
 "nbformat": 4,
 "nbformat_minor": 5
}
